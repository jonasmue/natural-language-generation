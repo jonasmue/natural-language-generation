{
  "nbformat": 4,
  "nbformat_minor": 0,
  "metadata": {
    "colab": {
      "name": "Generating Cover Letters with GPT-2",
      "provenance": [],
      "authorship_tag": "ABX9TyPbsDIjfGqROTcSxxhac6EO",
      "include_colab_link": true
    },
    "kernelspec": {
      "name": "python3",
      "display_name": "Python 3"
    },
    "accelerator": "GPU"
  },
  "cells": [
    {
      "cell_type": "markdown",
      "metadata": {
        "id": "view-in-github",
        "colab_type": "text"
      },
      "source": [
        "<a href=\"https://colab.research.google.com/github/jonasmue/natural-language-generation/blob/master/Generating_Cover_Letters_with_GPT_2.ipynb\" target=\"_parent\"><img src=\"https://colab.research.google.com/assets/colab-badge.svg\" alt=\"Open In Colab\"/></a>"
      ]
    },
    {
      "cell_type": "markdown",
      "metadata": {
        "id": "WcJMSGJ4h_aD",
        "colab_type": "text"
      },
      "source": [
        "# Writing Cover Letters with GPT-2\n",
        "---"
      ]
    },
    {
      "cell_type": "markdown",
      "metadata": {
        "id": "f30bT4dLiDAF",
        "colab_type": "text"
      },
      "source": [
        "The following notebook lets you write cover letters with a fine-tuned version of [OpenAI's GPT-2 model](https://openai.com/blog/better-language-models/). For more information on the model and the data it has been fine-tuned on, please refer to [this article](https://jonasportfol.io/posts/cover-letters-gpt2)."
      ]
    },
    {
      "cell_type": "markdown",
      "metadata": {
        "id": "zt6_D0_biQ29",
        "colab_type": "text"
      },
      "source": [
        "## Setup and Imports"
      ]
    },
    {
      "cell_type": "markdown",
      "metadata": {
        "id": "tIs9YY0zjE8e",
        "colab_type": "text"
      },
      "source": [
        "First we need to install Hugging Face's **transformers framework**."
      ]
    },
    {
      "cell_type": "code",
      "metadata": {
        "id": "DZHI90tgilfN",
        "colab_type": "code",
        "colab": {}
      },
      "source": [
        "!pip install transformers"
      ],
      "execution_count": null,
      "outputs": []
    },
    {
      "cell_type": "markdown",
      "metadata": {
        "id": "J5MpXMIcjt1R",
        "colab_type": "text"
      },
      "source": [
        "In the following cell, we download and initialize the [model](https://huggingface.co/jonasmue/cover-letter-distilgpt2).\n",
        "\n"
      ]
    },
    {
      "cell_type": "code",
      "metadata": {
        "id": "Kl7xn-ywkBj8",
        "colab_type": "code",
        "colab": {}
      },
      "source": [
        "from transformers import AutoTokenizer, GPT2LMHeadModel\n",
        "SPECIAL_TOKEN = \"<|endoftext|>\"\n",
        "MODEL_NAME = \"jonasmue/cover-letter-distilgpt2\" # One of [\"jonasmue/cover-letter-gpt2\",\"jonasmue/cover-letter-distilgpt2\"]\n",
        "model = GPT2LMHeadModel.from_pretrained(MODEL_NAME)\n",
        "tokenizer = AutoTokenizer.from_pretrained(MODEL_NAME, bos_token=SPECIAL_TOKEN, eos_token=SPECIAL_TOKEN, unk_token=SPECIAL_TOKEN)"
      ],
      "execution_count": null,
      "outputs": []
    },
    {
      "cell_type": "markdown",
      "metadata": {
        "id": "Ncg8dLvCjBFQ",
        "colab_type": "text"
      },
      "source": [
        "## Text Generation"
      ]
    },
    {
      "cell_type": "markdown",
      "metadata": {
        "id": "derb9F-0jNh2",
        "colab_type": "text"
      },
      "source": [
        "Cover letters are written **starting from a human-written prompt**. It \"guides\" the model into the topic your cover letter should be about. **Try experimenting with different prompts** from different job fields. 🧪\n"
      ]
    },
    {
      "cell_type": "code",
      "metadata": {
        "id": "sQ4PxB0ejbq3",
        "colab_type": "code",
        "colab": {}
      },
      "source": [
        "PROMPT = \"Dear Sir or Madam, I want to apply as software engineer in your company.\" # <-- Experiment with this 🧪!\n",
        "input_ids = tokenizer.encode(PROMPT, return_tensors=\"pt\")"
      ],
      "execution_count": null,
      "outputs": []
    },
    {
      "cell_type": "markdown",
      "metadata": {
        "id": "ibrGvqF4mEbb",
        "colab_type": "text"
      },
      "source": [
        "Finally, let's now **generate a cover letter**, starting with your prompt! ⚙️"
      ]
    },
    {
      "cell_type": "code",
      "metadata": {
        "id": "J-QbQ8xKmOJd",
        "colab_type": "code",
        "colab": {}
      },
      "source": [
        "NUM_SEQUENCES = 1 # <-- Adjust this, if you want to generate more than one cover letter 🔢"
      ],
      "execution_count": null,
      "outputs": []
    },
    {
      "cell_type": "code",
      "metadata": {
        "id": "vmatrsSulp6q",
        "colab_type": "code",
        "colab": {}
      },
      "source": [
        "sample_outputs = model.generate(\n",
        "    input_ids,\n",
        "    do_sample=True,\n",
        "    max_length=512,\n",
        "    top_k=50,\n",
        "    top_p=0.92,\n",
        "    num_return_sequences=NUM_SEQUENCES\n",
        ")"
      ],
      "execution_count": null,
      "outputs": []
    },
    {
      "cell_type": "markdown",
      "metadata": {
        "id": "0wDYUAUumVdG",
        "colab_type": "text"
      },
      "source": [
        "Voila, we're done! 🥳 Now let's take a look at our **result(s)**! 📨 "
      ]
    },
    {
      "cell_type": "code",
      "metadata": {
        "id": "1fP7yKMAmfOW",
        "colab_type": "code",
        "colab": {}
      },
      "source": [
        "print(\"Output\\n\" + \"=\" * 80)\n",
        "for i, sample_output in enumerate(sample_outputs):\n",
        "  print(\"\\nCover Letter {}:\\n\\n{}\".format(i + 1, tokenizer.decode(sample_output, skip_special_tokens=True)))"
      ],
      "execution_count": null,
      "outputs": []
    }
  ]
}